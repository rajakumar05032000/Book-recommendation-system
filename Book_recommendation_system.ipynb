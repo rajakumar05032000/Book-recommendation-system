{
  "nbformat": 4,
  "nbformat_minor": 0,
  "metadata": {
    "accelerator": "GPU",
    "colab": {
      "name": "Book_recommendation_system.ipynb",
      "provenance": [],
      "collapsed_sections": [],
      "include_colab_link": true
    },
    "kernelspec": {
      "display_name": "Python 3",
      "name": "python3"
    },
    "language_info": {
      "name": "python"
    }
  },
  "cells": [
    {
      "cell_type": "markdown",
      "metadata": {
        "id": "view-in-github",
        "colab_type": "text"
      },
      "source": [
        "<a href=\"https://colab.research.google.com/github/rajakumar05032000/Book-recommendation-system/blob/main/Book_recommendation_system.ipynb\" target=\"_parent\"><img src=\"https://colab.research.google.com/assets/colab-badge.svg\" alt=\"Open In Colab\"/></a>"
      ]
    },
    {
      "cell_type": "code",
      "metadata": {
        "id": "nmsjJzL7umHg"
      },
      "source": [
        "import numpy as np\n",
        "import pandas as pd\n",
        "from keras.layers import Input, Embedding,  Dense, Concatenate,SimpleRNN,GRU,Flatten,LSTM,Dropout,Bidirectional,GlobalMaxPool1D,LeakyReLU\n",
        "from keras.models import Model"
      ],
      "execution_count": null,
      "outputs": []
    },
    {
      "cell_type": "code",
      "metadata": {
        "colab": {
          "base_uri": "https://localhost:8080/"
        },
        "id": "JpoZeRnzzHbP",
        "outputId": "27404feb-0506-43ce-fbda-159241fce2e8"
      },
      "source": [
        "from google.colab import drive\n",
        "drive.mount('/content/drive')"
      ],
      "execution_count": null,
      "outputs": [
        {
          "output_type": "stream",
          "name": "stdout",
          "text": [
            "Drive already mounted at /content/drive; to attempt to forcibly remount, call drive.mount(\"/content/drive\", force_remount=True).\n"
          ]
        }
      ]
    },
    {
      "cell_type": "code",
      "metadata": {
        "id": "OkmO24bkushK"
      },
      "source": [
        "#!cp -r '/content/drive/MyDrive/Preprocessed_data.csv.zip' '/content'\n",
        "#!unzip Preprocessed_data.csv.zip\n"
      ],
      "execution_count": null,
      "outputs": []
    },
    {
      "cell_type": "code",
      "metadata": {
        "id": "orlbKB991OVe"
      },
      "source": [
        "data1=pd.read_csv(\"Preprocessed_data.csv\")"
      ],
      "execution_count": null,
      "outputs": []
    },
    {
      "cell_type": "code",
      "metadata": {
        "colab": {
          "base_uri": "https://localhost:8080/",
          "height": 649
        },
        "id": "EPVRmx49uwPh",
        "outputId": "23ad9cb9-367e-4797-9490-96d2d522c90c"
      },
      "source": [
        "data1.head()"
      ],
      "execution_count": null,
      "outputs": [
        {
          "output_type": "execute_result",
          "data": {
            "text/html": [
              "<div>\n",
              "<style scoped>\n",
              "    .dataframe tbody tr th:only-of-type {\n",
              "        vertical-align: middle;\n",
              "    }\n",
              "\n",
              "    .dataframe tbody tr th {\n",
              "        vertical-align: top;\n",
              "    }\n",
              "\n",
              "    .dataframe thead th {\n",
              "        text-align: right;\n",
              "    }\n",
              "</style>\n",
              "<table border=\"1\" class=\"dataframe\">\n",
              "  <thead>\n",
              "    <tr style=\"text-align: right;\">\n",
              "      <th></th>\n",
              "      <th>Unnamed: 0</th>\n",
              "      <th>user_id</th>\n",
              "      <th>location</th>\n",
              "      <th>age</th>\n",
              "      <th>isbn</th>\n",
              "      <th>rating</th>\n",
              "      <th>book_title</th>\n",
              "      <th>book_author</th>\n",
              "      <th>year_of_publication</th>\n",
              "      <th>publisher</th>\n",
              "      <th>img_s</th>\n",
              "      <th>img_m</th>\n",
              "      <th>img_l</th>\n",
              "      <th>Summary</th>\n",
              "      <th>Language</th>\n",
              "      <th>Category</th>\n",
              "      <th>city</th>\n",
              "      <th>state</th>\n",
              "      <th>country</th>\n",
              "    </tr>\n",
              "  </thead>\n",
              "  <tbody>\n",
              "    <tr>\n",
              "      <th>0</th>\n",
              "      <td>0</td>\n",
              "      <td>2</td>\n",
              "      <td>stockton, california, usa</td>\n",
              "      <td>18.0000</td>\n",
              "      <td>0195153448</td>\n",
              "      <td>0</td>\n",
              "      <td>Classical Mythology</td>\n",
              "      <td>Mark P. O. Morford</td>\n",
              "      <td>2002.0</td>\n",
              "      <td>Oxford University Press</td>\n",
              "      <td>http://images.amazon.com/images/P/0195153448.0...</td>\n",
              "      <td>http://images.amazon.com/images/P/0195153448.0...</td>\n",
              "      <td>http://images.amazon.com/images/P/0195153448.0...</td>\n",
              "      <td>Provides an introduction to classical myths pl...</td>\n",
              "      <td>en</td>\n",
              "      <td>['Social Science']</td>\n",
              "      <td>stockton</td>\n",
              "      <td>california</td>\n",
              "      <td>usa</td>\n",
              "    </tr>\n",
              "    <tr>\n",
              "      <th>1</th>\n",
              "      <td>1</td>\n",
              "      <td>8</td>\n",
              "      <td>timmins, ontario, canada</td>\n",
              "      <td>34.7439</td>\n",
              "      <td>0002005018</td>\n",
              "      <td>5</td>\n",
              "      <td>Clara Callan</td>\n",
              "      <td>Richard Bruce Wright</td>\n",
              "      <td>2001.0</td>\n",
              "      <td>HarperFlamingo Canada</td>\n",
              "      <td>http://images.amazon.com/images/P/0002005018.0...</td>\n",
              "      <td>http://images.amazon.com/images/P/0002005018.0...</td>\n",
              "      <td>http://images.amazon.com/images/P/0002005018.0...</td>\n",
              "      <td>In a small town in Canada, Clara Callan reluct...</td>\n",
              "      <td>en</td>\n",
              "      <td>['Actresses']</td>\n",
              "      <td>timmins</td>\n",
              "      <td>ontario</td>\n",
              "      <td>canada</td>\n",
              "    </tr>\n",
              "    <tr>\n",
              "      <th>2</th>\n",
              "      <td>2</td>\n",
              "      <td>11400</td>\n",
              "      <td>ottawa, ontario, canada</td>\n",
              "      <td>49.0000</td>\n",
              "      <td>0002005018</td>\n",
              "      <td>0</td>\n",
              "      <td>Clara Callan</td>\n",
              "      <td>Richard Bruce Wright</td>\n",
              "      <td>2001.0</td>\n",
              "      <td>HarperFlamingo Canada</td>\n",
              "      <td>http://images.amazon.com/images/P/0002005018.0...</td>\n",
              "      <td>http://images.amazon.com/images/P/0002005018.0...</td>\n",
              "      <td>http://images.amazon.com/images/P/0002005018.0...</td>\n",
              "      <td>In a small town in Canada, Clara Callan reluct...</td>\n",
              "      <td>en</td>\n",
              "      <td>['Actresses']</td>\n",
              "      <td>ottawa</td>\n",
              "      <td>ontario</td>\n",
              "      <td>canada</td>\n",
              "    </tr>\n",
              "    <tr>\n",
              "      <th>3</th>\n",
              "      <td>3</td>\n",
              "      <td>11676</td>\n",
              "      <td>n/a, n/a, n/a</td>\n",
              "      <td>34.7439</td>\n",
              "      <td>0002005018</td>\n",
              "      <td>8</td>\n",
              "      <td>Clara Callan</td>\n",
              "      <td>Richard Bruce Wright</td>\n",
              "      <td>2001.0</td>\n",
              "      <td>HarperFlamingo Canada</td>\n",
              "      <td>http://images.amazon.com/images/P/0002005018.0...</td>\n",
              "      <td>http://images.amazon.com/images/P/0002005018.0...</td>\n",
              "      <td>http://images.amazon.com/images/P/0002005018.0...</td>\n",
              "      <td>In a small town in Canada, Clara Callan reluct...</td>\n",
              "      <td>en</td>\n",
              "      <td>['Actresses']</td>\n",
              "      <td>NaN</td>\n",
              "      <td>NaN</td>\n",
              "      <td>NaN</td>\n",
              "    </tr>\n",
              "    <tr>\n",
              "      <th>4</th>\n",
              "      <td>4</td>\n",
              "      <td>41385</td>\n",
              "      <td>sudbury, ontario, canada</td>\n",
              "      <td>34.7439</td>\n",
              "      <td>0002005018</td>\n",
              "      <td>0</td>\n",
              "      <td>Clara Callan</td>\n",
              "      <td>Richard Bruce Wright</td>\n",
              "      <td>2001.0</td>\n",
              "      <td>HarperFlamingo Canada</td>\n",
              "      <td>http://images.amazon.com/images/P/0002005018.0...</td>\n",
              "      <td>http://images.amazon.com/images/P/0002005018.0...</td>\n",
              "      <td>http://images.amazon.com/images/P/0002005018.0...</td>\n",
              "      <td>In a small town in Canada, Clara Callan reluct...</td>\n",
              "      <td>en</td>\n",
              "      <td>['Actresses']</td>\n",
              "      <td>sudbury</td>\n",
              "      <td>ontario</td>\n",
              "      <td>canada</td>\n",
              "    </tr>\n",
              "  </tbody>\n",
              "</table>\n",
              "</div>"
            ],
            "text/plain": [
              "   Unnamed: 0  user_id                   location  ...      city       state  country\n",
              "0           0        2  stockton, california, usa  ...  stockton  california      usa\n",
              "1           1        8   timmins, ontario, canada  ...   timmins     ontario   canada\n",
              "2           2    11400    ottawa, ontario, canada  ...    ottawa     ontario   canada\n",
              "3           3    11676              n/a, n/a, n/a  ...       NaN         NaN      NaN\n",
              "4           4    41385   sudbury, ontario, canada  ...   sudbury     ontario   canada\n",
              "\n",
              "[5 rows x 19 columns]"
            ]
          },
          "metadata": {},
          "execution_count": 5
        }
      ]
    },
    {
      "cell_type": "code",
      "metadata": {
        "id": "rSN4cdOMu6Uu"
      },
      "source": [
        "data1.drop(['location','img_s','img_m','img_l','publisher','city','state','country','Unnamed: 0'],inplace=True,axis=1)"
      ],
      "execution_count": null,
      "outputs": []
    },
    {
      "cell_type": "code",
      "metadata": {
        "colab": {
          "base_uri": "https://localhost:8080/",
          "height": 814
        },
        "id": "4-ShXhGzvRHW",
        "outputId": "ba883051-920d-42aa-f801-03c81d2c4c0e"
      },
      "source": [
        "h=data1[data1.user_id==8]\n",
        "h"
      ],
      "execution_count": null,
      "outputs": [
        {
          "output_type": "execute_result",
          "data": {
            "text/html": [
              "<div>\n",
              "<style scoped>\n",
              "    .dataframe tbody tr th:only-of-type {\n",
              "        vertical-align: middle;\n",
              "    }\n",
              "\n",
              "    .dataframe tbody tr th {\n",
              "        vertical-align: top;\n",
              "    }\n",
              "\n",
              "    .dataframe thead th {\n",
              "        text-align: right;\n",
              "    }\n",
              "</style>\n",
              "<table border=\"1\" class=\"dataframe\">\n",
              "  <thead>\n",
              "    <tr style=\"text-align: right;\">\n",
              "      <th></th>\n",
              "      <th>user_id</th>\n",
              "      <th>age</th>\n",
              "      <th>isbn</th>\n",
              "      <th>rating</th>\n",
              "      <th>book_title</th>\n",
              "      <th>book_author</th>\n",
              "      <th>year_of_publication</th>\n",
              "      <th>Summary</th>\n",
              "      <th>Language</th>\n",
              "      <th>Category</th>\n",
              "    </tr>\n",
              "  </thead>\n",
              "  <tbody>\n",
              "    <tr>\n",
              "      <th>1</th>\n",
              "      <td>8</td>\n",
              "      <td>34.7439</td>\n",
              "      <td>0002005018</td>\n",
              "      <td>5</td>\n",
              "      <td>Clara Callan</td>\n",
              "      <td>Richard Bruce Wright</td>\n",
              "      <td>2001.0</td>\n",
              "      <td>In a small town in Canada, Clara Callan reluct...</td>\n",
              "      <td>en</td>\n",
              "      <td>['Actresses']</td>\n",
              "    </tr>\n",
              "    <tr>\n",
              "      <th>15</th>\n",
              "      <td>8</td>\n",
              "      <td>34.7439</td>\n",
              "      <td>0060973129</td>\n",
              "      <td>0</td>\n",
              "      <td>Decision in Normandy</td>\n",
              "      <td>Carlo D'Este</td>\n",
              "      <td>1991.0</td>\n",
              "      <td>Here, for the first time in paperback, is an o...</td>\n",
              "      <td>en</td>\n",
              "      <td>['1940-1949']</td>\n",
              "    </tr>\n",
              "    <tr>\n",
              "      <th>18</th>\n",
              "      <td>8</td>\n",
              "      <td>34.7439</td>\n",
              "      <td>0374157065</td>\n",
              "      <td>0</td>\n",
              "      <td>Flu: The Story of the Great Influenza Pandemic...</td>\n",
              "      <td>Gina Bari Kolata</td>\n",
              "      <td>1999.0</td>\n",
              "      <td>Describes the great flu epidemic of 1918, an o...</td>\n",
              "      <td>en</td>\n",
              "      <td>['Medical']</td>\n",
              "    </tr>\n",
              "    <tr>\n",
              "      <th>29</th>\n",
              "      <td>8</td>\n",
              "      <td>34.7439</td>\n",
              "      <td>0393045218</td>\n",
              "      <td>0</td>\n",
              "      <td>The Mummies of Urumchi</td>\n",
              "      <td>E. J. W. Barber</td>\n",
              "      <td>1999.0</td>\n",
              "      <td>A look at the incredibly well-preserved ancien...</td>\n",
              "      <td>en</td>\n",
              "      <td>['Design']</td>\n",
              "    </tr>\n",
              "    <tr>\n",
              "      <th>30</th>\n",
              "      <td>8</td>\n",
              "      <td>34.7439</td>\n",
              "      <td>0399135782</td>\n",
              "      <td>0</td>\n",
              "      <td>The Kitchen God's Wife</td>\n",
              "      <td>Amy Tan</td>\n",
              "      <td>1991.0</td>\n",
              "      <td>A Chinese immigrant who is convinced she is dy...</td>\n",
              "      <td>en</td>\n",
              "      <td>['Fiction']</td>\n",
              "    </tr>\n",
              "    <tr>\n",
              "      <th>63</th>\n",
              "      <td>8</td>\n",
              "      <td>34.7439</td>\n",
              "      <td>0425176428</td>\n",
              "      <td>0</td>\n",
              "      <td>What If?: The World's Foremost Military Histor...</td>\n",
              "      <td>Robert Cowley</td>\n",
              "      <td>2000.0</td>\n",
              "      <td>Essays by respected military historians, inclu...</td>\n",
              "      <td>en</td>\n",
              "      <td>['History']</td>\n",
              "    </tr>\n",
              "    <tr>\n",
              "      <th>68</th>\n",
              "      <td>8</td>\n",
              "      <td>34.7439</td>\n",
              "      <td>0671870432</td>\n",
              "      <td>0</td>\n",
              "      <td>PLEADING GUILTY</td>\n",
              "      <td>Scott Turow</td>\n",
              "      <td>1993.0</td>\n",
              "      <td>9</td>\n",
              "      <td>9</td>\n",
              "      <td>9</td>\n",
              "    </tr>\n",
              "    <tr>\n",
              "      <th>71</th>\n",
              "      <td>8</td>\n",
              "      <td>34.7439</td>\n",
              "      <td>0679425608</td>\n",
              "      <td>0</td>\n",
              "      <td>Under the Black Flag: The Romance and the Real...</td>\n",
              "      <td>David Cordingly</td>\n",
              "      <td>1996.0</td>\n",
              "      <td>An authoritative, revisionist history of the g...</td>\n",
              "      <td>en</td>\n",
              "      <td>['Fiction']</td>\n",
              "    </tr>\n",
              "    <tr>\n",
              "      <th>72</th>\n",
              "      <td>8</td>\n",
              "      <td>34.7439</td>\n",
              "      <td>074322678X</td>\n",
              "      <td>5</td>\n",
              "      <td>Where You'll Find Me: And Other Stories</td>\n",
              "      <td>Ann Beattie</td>\n",
              "      <td>2002.0</td>\n",
              "      <td>Now back in print, Ann Beattie&amp;#39;s finest sh...</td>\n",
              "      <td>en</td>\n",
              "      <td>['Fiction']</td>\n",
              "    </tr>\n",
              "    <tr>\n",
              "      <th>73</th>\n",
              "      <td>8</td>\n",
              "      <td>34.7439</td>\n",
              "      <td>0771074670</td>\n",
              "      <td>0</td>\n",
              "      <td>Nights Below Station Street</td>\n",
              "      <td>David Adams Richards</td>\n",
              "      <td>1988.0</td>\n",
              "      <td>Another story based in the fictional rural tow...</td>\n",
              "      <td>en</td>\n",
              "      <td>['Fiction']</td>\n",
              "    </tr>\n",
              "    <tr>\n",
              "      <th>79</th>\n",
              "      <td>8</td>\n",
              "      <td>34.7439</td>\n",
              "      <td>080652121X</td>\n",
              "      <td>0</td>\n",
              "      <td>Hitler's Secret Bankers: The Myth of Swiss Neu...</td>\n",
              "      <td>Adam Lebor</td>\n",
              "      <td>2000.0</td>\n",
              "      <td>Hitler&amp;#39;s Secret Bankers was the first book...</td>\n",
              "      <td>en</td>\n",
              "      <td>['History']</td>\n",
              "    </tr>\n",
              "    <tr>\n",
              "      <th>80</th>\n",
              "      <td>8</td>\n",
              "      <td>34.7439</td>\n",
              "      <td>0887841740</td>\n",
              "      <td>5</td>\n",
              "      <td>The Middle Stories</td>\n",
              "      <td>Sheila Heti</td>\n",
              "      <td>2004.0</td>\n",
              "      <td>9</td>\n",
              "      <td>9</td>\n",
              "      <td>9</td>\n",
              "    </tr>\n",
              "    <tr>\n",
              "      <th>82</th>\n",
              "      <td>8</td>\n",
              "      <td>34.7439</td>\n",
              "      <td>1552041778</td>\n",
              "      <td>5</td>\n",
              "      <td>Jane Doe</td>\n",
              "      <td>R. J. Kaiser</td>\n",
              "      <td>1999.0</td>\n",
              "      <td>9</td>\n",
              "      <td>9</td>\n",
              "      <td>9</td>\n",
              "    </tr>\n",
              "    <tr>\n",
              "      <th>83</th>\n",
              "      <td>8</td>\n",
              "      <td>34.7439</td>\n",
              "      <td>1558746218</td>\n",
              "      <td>0</td>\n",
              "      <td>A Second Chicken Soup for the Woman's Soul (Ch...</td>\n",
              "      <td>Jack Canfield</td>\n",
              "      <td>1998.0</td>\n",
              "      <td>9</td>\n",
              "      <td>9</td>\n",
              "      <td>9</td>\n",
              "    </tr>\n",
              "    <tr>\n",
              "      <th>91</th>\n",
              "      <td>8</td>\n",
              "      <td>34.7439</td>\n",
              "      <td>1567407781</td>\n",
              "      <td>6</td>\n",
              "      <td>The Witchfinder (Amos Walker Mystery Series)</td>\n",
              "      <td>Loren D. Estleman</td>\n",
              "      <td>1998.0</td>\n",
              "      <td>9</td>\n",
              "      <td>9</td>\n",
              "      <td>9</td>\n",
              "    </tr>\n",
              "    <tr>\n",
              "      <th>92</th>\n",
              "      <td>8</td>\n",
              "      <td>34.7439</td>\n",
              "      <td>1575663937</td>\n",
              "      <td>6</td>\n",
              "      <td>More Cunning Than Man: A Social History of Rat...</td>\n",
              "      <td>Robert Hendrickson</td>\n",
              "      <td>1999.0</td>\n",
              "      <td>This eye-opening, well-researched examination ...</td>\n",
              "      <td>en</td>\n",
              "      <td>['Nature']</td>\n",
              "    </tr>\n",
              "    <tr>\n",
              "      <th>95</th>\n",
              "      <td>8</td>\n",
              "      <td>34.7439</td>\n",
              "      <td>1881320189</td>\n",
              "      <td>7</td>\n",
              "      <td>Goodbye to the Buttermilk Sky</td>\n",
              "      <td>Julia Oliver</td>\n",
              "      <td>1994.0</td>\n",
              "      <td>A beautifully narrated novel of time and place...</td>\n",
              "      <td>en</td>\n",
              "      <td>['Fiction']</td>\n",
              "    </tr>\n",
              "  </tbody>\n",
              "</table>\n",
              "</div>"
            ],
            "text/plain": [
              "    user_id      age  ... Language       Category\n",
              "1         8  34.7439  ...       en  ['Actresses']\n",
              "15        8  34.7439  ...       en  ['1940-1949']\n",
              "18        8  34.7439  ...       en    ['Medical']\n",
              "29        8  34.7439  ...       en     ['Design']\n",
              "30        8  34.7439  ...       en    ['Fiction']\n",
              "63        8  34.7439  ...       en    ['History']\n",
              "68        8  34.7439  ...        9              9\n",
              "71        8  34.7439  ...       en    ['Fiction']\n",
              "72        8  34.7439  ...       en    ['Fiction']\n",
              "73        8  34.7439  ...       en    ['Fiction']\n",
              "79        8  34.7439  ...       en    ['History']\n",
              "80        8  34.7439  ...        9              9\n",
              "82        8  34.7439  ...        9              9\n",
              "83        8  34.7439  ...        9              9\n",
              "91        8  34.7439  ...        9              9\n",
              "92        8  34.7439  ...       en     ['Nature']\n",
              "95        8  34.7439  ...       en    ['Fiction']\n",
              "\n",
              "[17 rows x 10 columns]"
            ]
          },
          "metadata": {},
          "execution_count": 7
        }
      ]
    },
    {
      "cell_type": "code",
      "metadata": {
        "colab": {
          "base_uri": "https://localhost:8080/"
        },
        "id": "TiCps_V7wUAS",
        "outputId": "69e1789a-18e7-4638-a0a2-611f8855e231"
      },
      "source": [
        "data1.columns"
      ],
      "execution_count": null,
      "outputs": [
        {
          "output_type": "execute_result",
          "data": {
            "text/plain": [
              "Index(['user_id', 'age', 'isbn', 'rating', 'book_title', 'book_author',\n",
              "       'year_of_publication', 'Summary', 'Language', 'Category'],\n",
              "      dtype='object')"
            ]
          },
          "metadata": {},
          "execution_count": 8
        }
      ]
    },
    {
      "cell_type": "code",
      "metadata": {
        "colab": {
          "base_uri": "https://localhost:8080/"
        },
        "id": "d2XxDUWXwWw3",
        "outputId": "16474f32-0852-4819-84c5-63f92a4f3adf"
      },
      "source": [
        "data1.isnull().sum()"
      ],
      "execution_count": null,
      "outputs": [
        {
          "output_type": "execute_result",
          "data": {
            "text/plain": [
              "user_id                0\n",
              "age                    0\n",
              "isbn                   0\n",
              "rating                 0\n",
              "book_title             0\n",
              "book_author            0\n",
              "year_of_publication    0\n",
              "Summary                0\n",
              "Language               0\n",
              "Category               0\n",
              "dtype: int64"
            ]
          },
          "metadata": {},
          "execution_count": 9
        }
      ]
    },
    {
      "cell_type": "code",
      "metadata": {
        "colab": {
          "base_uri": "https://localhost:8080/"
        },
        "id": "yOYI-E21wdX-",
        "outputId": "1925795e-2e6f-4dc0-e0cd-19f729b40339"
      },
      "source": [
        "users = len(data1.user_id.unique())\n",
        "print(users)"
      ],
      "execution_count": null,
      "outputs": [
        {
          "output_type": "stream",
          "name": "stdout",
          "text": [
            "92107\n"
          ]
        }
      ]
    },
    {
      "cell_type": "code",
      "metadata": {
        "colab": {
          "base_uri": "https://localhost:8080/"
        },
        "id": "IoW3eKOjwrXA",
        "outputId": "2956a02b-b636-40fe-f572-6049e150b83a"
      },
      "source": [
        "print(data1.shape)"
      ],
      "execution_count": null,
      "outputs": [
        {
          "output_type": "stream",
          "name": "stdout",
          "text": [
            "(1031175, 10)\n"
          ]
        }
      ]
    },
    {
      "cell_type": "code",
      "metadata": {
        "colab": {
          "base_uri": "https://localhost:8080/"
        },
        "id": "ZdgLClcgwrZz",
        "outputId": "c9d05abd-a95e-454f-8375-05e4b1941cc6"
      },
      "source": [
        "books=len(data1.isbn.unique())\n",
        "print(books)"
      ],
      "execution_count": null,
      "outputs": [
        {
          "output_type": "stream",
          "name": "stdout",
          "text": [
            "270170\n"
          ]
        }
      ]
    },
    {
      "cell_type": "code",
      "metadata": {
        "id": "WbWe63eNwrmZ"
      },
      "source": [
        "YearOfPublication_to_index={j:i+1 for i,j in enumerate(data1['year_of_publication'].unique())}\n",
        "index_to_YearOfPublication={i+1:j for i,j in enumerate(data1['year_of_publication'].unique())}"
      ],
      "execution_count": null,
      "outputs": []
    },
    {
      "cell_type": "code",
      "metadata": {
        "id": "QoMxJRN1wrpQ"
      },
      "source": [
        "Book_to_index={j:i+1 for i,j in enumerate(data1['isbn'].unique())}\n",
        "index_to_Book={i+1:j for i,j in enumerate(data1['isbn'].unique())}"
      ],
      "execution_count": null,
      "outputs": []
    },
    {
      "cell_type": "code",
      "metadata": {
        "id": "Vbz7ZpXqwrsJ"
      },
      "source": [
        "Category_to_index={j:i+1 for i,j in enumerate(data1['Category'].unique())}\n",
        "index_to_Category={i+1:j for i,j in enumerate(data1['Category'].unique())}"
      ],
      "execution_count": null,
      "outputs": []
    },
    {
      "cell_type": "code",
      "metadata": {
        "id": "ufBJ9NU5xj2W"
      },
      "source": [
        "Language_to_index={j:i+1 for i,j in enumerate(data1['Language'].unique())}\n",
        "index_to_Language={i+1:j for i,j in enumerate(data1['Language'].unique())}"
      ],
      "execution_count": null,
      "outputs": []
    },
    {
      "cell_type": "code",
      "metadata": {
        "id": "qG9RDhfZ0KZx"
      },
      "source": [
        "User_to_index={j:i+1 for i,j in enumerate(data1['user_id'].unique())}\n",
        "index_to_User={i+1:j for i,j in enumerate(data1['user_id'].unique())}"
      ],
      "execution_count": null,
      "outputs": []
    },
    {
      "cell_type": "code",
      "metadata": {
        "id": "VxRLpe30xj5t"
      },
      "source": [
        "# from sklearn.feature_extraction.text import TfidfVectorizer\n",
        "# vectorizer = TfidfVectorizer(max_features=250)\n",
        "# summary_vector=vectorizer.fit_transform(data1.Summary).toarray()\n",
        "# summary_vector.shape"
      ],
      "execution_count": null,
      "outputs": []
    },
    {
      "cell_type": "code",
      "metadata": {
        "colab": {
          "base_uri": "https://localhost:8080/"
        },
        "id": "pZGSZn1Mxj9V",
        "outputId": "5571b6f3-c6cc-456e-e4be-f22ed975da9c"
      },
      "source": [
        "data1=data1[data1['rating'] != 0]\n",
        "print(data1.shape)"
      ],
      "execution_count": null,
      "outputs": [
        {
          "output_type": "stream",
          "name": "stdout",
          "text": [
            "(383852, 10)\n"
          ]
        }
      ]
    },
    {
      "cell_type": "code",
      "metadata": {
        "id": "xoqtq1NAd9RE"
      },
      "source": [
        "from keras.preprocessing.text import Tokenizer\n",
        "from keras.preprocessing.sequence import pad_sequences\n",
        "texts=data1[\"Summary\"].values\n",
        "max_num_words = 5000\n",
        "max_seq_length = 300\n",
        "tokenizer = Tokenizer(num_words=max_num_words)\n",
        "tokenizer.fit_on_texts(texts)\n",
        "sequences = tokenizer.texts_to_sequences(texts)\n",
        "word_index = tokenizer.word_index"
      ],
      "execution_count": null,
      "outputs": []
    },
    {
      "cell_type": "code",
      "metadata": {
        "colab": {
          "base_uri": "https://localhost:8080/"
        },
        "id": "C1NaWblFgBAZ",
        "outputId": "e471820a-7007-4a47-c2b4-4d5d27b3de99"
      },
      "source": [
        "text_data = pad_sequences(sequences, maxlen=max_seq_length)\n",
        "#!wget https://nlp.stanford.edu/data/glove.6B.zip\n",
        "#!unzip glove.6B.zip\n",
        "import os\n",
        "embedding_index = {}\n",
        "glove_dir = '/content/'\n",
        "f = open(os.path.join(glove_dir,'glove.6B.50d.txt'))\n",
        "for line in f:\n",
        "    values = line.split()\n",
        "    word = values[0]\n",
        "    coefs = np.asarray(values[1:],dtype='float32')\n",
        "    embedding_index[word] = coefs\n",
        "f.close()\n",
        "\n",
        "print('found word vecs: ',len(embedding_index))\n"
      ],
      "execution_count": null,
      "outputs": [
        {
          "output_type": "stream",
          "name": "stdout",
          "text": [
            "found word vecs:  400000\n"
          ]
        }
      ]
    },
    {
      "cell_type": "code",
      "metadata": {
        "id": "ydLdyrLZpWcX"
      },
      "source": [
        "embedding_dim = 50\n",
        "embedding_matrix = np.zeros((len(word_index)+1,embedding_dim))\n",
        "embedding_matrix.shape\n",
        "\n",
        "for word,i in word_index.items():\n",
        "    embedding_vector = embedding_index.get(word)\n",
        "    if embedding_vector is not None:\n",
        "        embedding_matrix[i] = embedding_vector\n"
      ],
      "execution_count": null,
      "outputs": []
    },
    {
      "cell_type": "code",
      "metadata": {
        "id": "gbgLGwO5x6VX"
      },
      "source": [
        "data1['Yearofpublication_index']=[YearOfPublication_to_index.get(i) for i in data1['year_of_publication']]\n",
        "data1['Book_index']=[Book_to_index.get(i) for i in data1['isbn']]\n",
        "data1['Category_index']=[Category_to_index.get(i) for i in data1['Category']]\n",
        "data1['Language_index']=[Language_to_index.get(i) for i in data1['Language']]\n",
        "data1['User_index']=[User_to_index.get(i) for i in data1['user_id']]\n",
        "data1.drop(['user_id','isbn','Category','Language','year_of_publication','book_author','book_title','Summary'],inplace=True,axis=1)"
      ],
      "execution_count": null,
      "outputs": []
    },
    {
      "cell_type": "code",
      "metadata": {
        "colab": {
          "base_uri": "https://localhost:8080/",
          "height": 204
        },
        "id": "8X_B5xlRx6Zf",
        "outputId": "c989297f-5d40-40bf-91a1-0685ec57e47a"
      },
      "source": [
        "data1.head()"
      ],
      "execution_count": null,
      "outputs": [
        {
          "output_type": "execute_result",
          "data": {
            "text/html": [
              "<div>\n",
              "<style scoped>\n",
              "    .dataframe tbody tr th:only-of-type {\n",
              "        vertical-align: middle;\n",
              "    }\n",
              "\n",
              "    .dataframe tbody tr th {\n",
              "        vertical-align: top;\n",
              "    }\n",
              "\n",
              "    .dataframe thead th {\n",
              "        text-align: right;\n",
              "    }\n",
              "</style>\n",
              "<table border=\"1\" class=\"dataframe\">\n",
              "  <thead>\n",
              "    <tr style=\"text-align: right;\">\n",
              "      <th></th>\n",
              "      <th>age</th>\n",
              "      <th>rating</th>\n",
              "      <th>Yearofpublication_index</th>\n",
              "      <th>Book_index</th>\n",
              "      <th>Category_index</th>\n",
              "      <th>Language_index</th>\n",
              "      <th>User_index</th>\n",
              "    </tr>\n",
              "  </thead>\n",
              "  <tbody>\n",
              "    <tr>\n",
              "      <th>1</th>\n",
              "      <td>34.7439</td>\n",
              "      <td>5</td>\n",
              "      <td>2</td>\n",
              "      <td>2</td>\n",
              "      <td>2</td>\n",
              "      <td>1</td>\n",
              "      <td>2</td>\n",
              "    </tr>\n",
              "    <tr>\n",
              "      <th>3</th>\n",
              "      <td>34.7439</td>\n",
              "      <td>8</td>\n",
              "      <td>2</td>\n",
              "      <td>2</td>\n",
              "      <td>2</td>\n",
              "      <td>1</td>\n",
              "      <td>4</td>\n",
              "    </tr>\n",
              "    <tr>\n",
              "      <th>5</th>\n",
              "      <td>30.0000</td>\n",
              "      <td>8</td>\n",
              "      <td>2</td>\n",
              "      <td>2</td>\n",
              "      <td>2</td>\n",
              "      <td>1</td>\n",
              "      <td>6</td>\n",
              "    </tr>\n",
              "    <tr>\n",
              "      <th>8</th>\n",
              "      <td>34.7439</td>\n",
              "      <td>9</td>\n",
              "      <td>2</td>\n",
              "      <td>2</td>\n",
              "      <td>2</td>\n",
              "      <td>1</td>\n",
              "      <td>9</td>\n",
              "    </tr>\n",
              "    <tr>\n",
              "      <th>9</th>\n",
              "      <td>34.7439</td>\n",
              "      <td>9</td>\n",
              "      <td>2</td>\n",
              "      <td>2</td>\n",
              "      <td>2</td>\n",
              "      <td>1</td>\n",
              "      <td>10</td>\n",
              "    </tr>\n",
              "  </tbody>\n",
              "</table>\n",
              "</div>"
            ],
            "text/plain": [
              "       age  rating  ...  Language_index  User_index\n",
              "1  34.7439       5  ...               1           2\n",
              "3  34.7439       8  ...               1           4\n",
              "5  30.0000       8  ...               1           6\n",
              "8  34.7439       9  ...               1           9\n",
              "9  34.7439       9  ...               1          10\n",
              "\n",
              "[5 rows x 7 columns]"
            ]
          },
          "metadata": {},
          "execution_count": 24
        }
      ]
    },
    {
      "cell_type": "code",
      "metadata": {
        "id": "uemUqnN7rdLg"
      },
      "source": [
        "from sklearn.preprocessing import  MinMaxScaler\n",
        "scaler=MinMaxScaler()\n",
        "scaler2=MinMaxScaler()\n"
      ],
      "execution_count": null,
      "outputs": []
    },
    {
      "cell_type": "code",
      "metadata": {
        "id": "7T8ojaJaNp5T"
      },
      "source": [
        "data1=data1.head(1031175)"
      ],
      "execution_count": null,
      "outputs": []
    },
    {
      "cell_type": "code",
      "metadata": {
        "id": "lCpXN72htVIO"
      },
      "source": [
        "text_data = pad_sequences(sequences, maxlen=max_seq_length)"
      ],
      "execution_count": null,
      "outputs": []
    },
    {
      "cell_type": "code",
      "metadata": {
        "colab": {
          "base_uri": "https://localhost:8080/"
        },
        "id": "Pyoh87EZtaB8",
        "outputId": "31064831-e3c5-4545-fec5-1f9dea746486"
      },
      "source": [
        "print(text_data.shape)\n",
        "print(data1.shape)"
      ],
      "execution_count": null,
      "outputs": [
        {
          "output_type": "stream",
          "name": "stdout",
          "text": [
            "(383852, 300)\n",
            "(383852, 7)\n"
          ]
        }
      ]
    },
    {
      "cell_type": "code",
      "metadata": {
        "colab": {
          "base_uri": "https://localhost:8080/",
          "height": 204
        },
        "id": "XZ9MblL9siEp",
        "outputId": "a8354903-d49b-4dae-e7d5-1c749daedbc9"
      },
      "source": [
        "data1.head()"
      ],
      "execution_count": null,
      "outputs": [
        {
          "output_type": "execute_result",
          "data": {
            "text/html": [
              "<div>\n",
              "<style scoped>\n",
              "    .dataframe tbody tr th:only-of-type {\n",
              "        vertical-align: middle;\n",
              "    }\n",
              "\n",
              "    .dataframe tbody tr th {\n",
              "        vertical-align: top;\n",
              "    }\n",
              "\n",
              "    .dataframe thead th {\n",
              "        text-align: right;\n",
              "    }\n",
              "</style>\n",
              "<table border=\"1\" class=\"dataframe\">\n",
              "  <thead>\n",
              "    <tr style=\"text-align: right;\">\n",
              "      <th></th>\n",
              "      <th>age</th>\n",
              "      <th>rating</th>\n",
              "      <th>Yearofpublication_index</th>\n",
              "      <th>Book_index</th>\n",
              "      <th>Category_index</th>\n",
              "      <th>Language_index</th>\n",
              "      <th>User_index</th>\n",
              "    </tr>\n",
              "  </thead>\n",
              "  <tbody>\n",
              "    <tr>\n",
              "      <th>1</th>\n",
              "      <td>34.7439</td>\n",
              "      <td>5</td>\n",
              "      <td>2</td>\n",
              "      <td>2</td>\n",
              "      <td>2</td>\n",
              "      <td>1</td>\n",
              "      <td>2</td>\n",
              "    </tr>\n",
              "    <tr>\n",
              "      <th>3</th>\n",
              "      <td>34.7439</td>\n",
              "      <td>8</td>\n",
              "      <td>2</td>\n",
              "      <td>2</td>\n",
              "      <td>2</td>\n",
              "      <td>1</td>\n",
              "      <td>4</td>\n",
              "    </tr>\n",
              "    <tr>\n",
              "      <th>5</th>\n",
              "      <td>30.0000</td>\n",
              "      <td>8</td>\n",
              "      <td>2</td>\n",
              "      <td>2</td>\n",
              "      <td>2</td>\n",
              "      <td>1</td>\n",
              "      <td>6</td>\n",
              "    </tr>\n",
              "    <tr>\n",
              "      <th>8</th>\n",
              "      <td>34.7439</td>\n",
              "      <td>9</td>\n",
              "      <td>2</td>\n",
              "      <td>2</td>\n",
              "      <td>2</td>\n",
              "      <td>1</td>\n",
              "      <td>9</td>\n",
              "    </tr>\n",
              "    <tr>\n",
              "      <th>9</th>\n",
              "      <td>34.7439</td>\n",
              "      <td>9</td>\n",
              "      <td>2</td>\n",
              "      <td>2</td>\n",
              "      <td>2</td>\n",
              "      <td>1</td>\n",
              "      <td>10</td>\n",
              "    </tr>\n",
              "  </tbody>\n",
              "</table>\n",
              "</div>"
            ],
            "text/plain": [
              "       age  rating  ...  Language_index  User_index\n",
              "1  34.7439       5  ...               1           2\n",
              "3  34.7439       8  ...               1           4\n",
              "5  30.0000       8  ...               1           6\n",
              "8  34.7439       9  ...               1           9\n",
              "9  34.7439       9  ...               1          10\n",
              "\n",
              "[5 rows x 7 columns]"
            ]
          },
          "metadata": {},
          "execution_count": 29
        }
      ]
    },
    {
      "cell_type": "code",
      "metadata": {
        "id": "lCn6PribxkAj"
      },
      "source": [
        "from sklearn.model_selection import train_test_split\n",
        "train_data,test_data,train_summary,test_summary = train_test_split(data1,text_data, test_size=0.2)"
      ],
      "execution_count": null,
      "outputs": []
    },
    {
      "cell_type": "code",
      "metadata": {
        "colab": {
          "base_uri": "https://localhost:8080/"
        },
        "id": "_d51vizB5x41",
        "outputId": "36f4e757-4640-4dd7-f479-b88bf8d8cbba"
      },
      "source": [
        "other_train=train_data.drop(['User_index','Book_index','rating'],axis=1)\n",
        "other_train[['age','Yearofpublication_index','Category_index','Language_index']]=scaler.fit_transform(other_train[['age','Yearofpublication_index','Category_index','Language_index']])\n",
        "other_train=other_train.values\n",
        "train_summary.shape"
      ],
      "execution_count": null,
      "outputs": [
        {
          "output_type": "execute_result",
          "data": {
            "text/plain": [
              "(307081, 300)"
            ]
          },
          "metadata": {},
          "execution_count": 31
        }
      ]
    },
    {
      "cell_type": "code",
      "metadata": {
        "colab": {
          "base_uri": "https://localhost:8080/"
        },
        "id": "gwy4N30K6jHD",
        "outputId": "5b69b6dc-3ec8-4399-bd00-a40b03d688e8"
      },
      "source": [
        "other_train.shape"
      ],
      "execution_count": null,
      "outputs": [
        {
          "output_type": "execute_result",
          "data": {
            "text/plain": [
              "(307081, 4)"
            ]
          },
          "metadata": {},
          "execution_count": 32
        }
      ]
    },
    {
      "cell_type": "code",
      "metadata": {
        "id": "q57ix5M_xkGn"
      },
      "source": [
        "from keras.layers import Concatenate\n",
        "from tensorflow import keras\n",
        "from tensorflow.keras import regularizers\n",
        "book1 = Input(shape=[1])\n",
        "book_emb= Embedding(books+1, 5)(book1)\n",
        "book_flat= Flatten()(book_emb)\n",
        "\n",
        "user = Input(shape=[1])\n",
        "user_emb = Embedding(users+1, 5)(user)\n",
        "user_flat= Flatten()(user_emb)\n",
        "\n",
        "conc1=Concatenate()([book_flat,user_flat])\n",
        "\n",
        "\n",
        "text = Input(shape=(max_seq_length,))\n",
        "text_emb = Embedding(len(word_index)+1,embedding_dim,weights=[embedding_matrix],input_length=max_seq_length,trainable=True)(text)\n",
        "l1 =LSTM(16,return_sequences=True)(text_emb)\n",
        "l2 = GlobalMaxPool1D()(l1)\n",
        "\n",
        "other_proc = Input(shape=other_train[1].shape,name='op')\n",
        "other1 = Dense(32,kernel_regularizer='l2')(other_proc)\n",
        "lr1=LeakyReLU()(other1)\n",
        "other2= Dropout(0.7)(lr1)\n",
        "conc2= Concatenate()([conc1,lr1])\n",
        "\n",
        "\n",
        "l3=  Dense(32,kernel_regularizer='l2')(l2)\n",
        "lr2=LeakyReLU()(l3)\n",
        "conc3= Concatenate()([conc2,lr2])\n",
        "c3=Dropout(0.7)(conc3)\n",
        "l4 = Dense(8)(c3)\n",
        "l5= LeakyReLU()(l4)\n",
        "\n",
        "\n",
        "\n",
        "out = Dense(1)(l5)\n",
        "model1 = Model([book1, user,text,other_proc], out)\n",
        "optimizer = keras.optimizers.Adam()\n",
        "model1.compile(loss='mse', optimizer=optimizer)"
      ],
      "execution_count": null,
      "outputs": []
    },
    {
      "cell_type": "code",
      "metadata": {
        "colab": {
          "base_uri": "https://localhost:8080/"
        },
        "id": "e9u0j8j9xwR0",
        "outputId": "5a880573-56e8-423c-dd4c-e92a9996746a"
      },
      "source": [
        "model1.summary()"
      ],
      "execution_count": null,
      "outputs": [
        {
          "output_type": "stream",
          "name": "stdout",
          "text": [
            "Model: \"model\"\n",
            "__________________________________________________________________________________________________\n",
            "Layer (type)                    Output Shape         Param #     Connected to                     \n",
            "==================================================================================================\n",
            "input_3 (InputLayer)            [(None, 300)]        0                                            \n",
            "__________________________________________________________________________________________________\n",
            "input_1 (InputLayer)            [(None, 1)]          0                                            \n",
            "__________________________________________________________________________________________________\n",
            "input_2 (InputLayer)            [(None, 1)]          0                                            \n",
            "__________________________________________________________________________________________________\n",
            "embedding_2 (Embedding)         (None, 300, 50)      4338650     input_3[0][0]                    \n",
            "__________________________________________________________________________________________________\n",
            "embedding (Embedding)           (None, 1, 5)         1350855     input_1[0][0]                    \n",
            "__________________________________________________________________________________________________\n",
            "embedding_1 (Embedding)         (None, 1, 5)         460540      input_2[0][0]                    \n",
            "__________________________________________________________________________________________________\n",
            "op (InputLayer)                 [(None, 4)]          0                                            \n",
            "__________________________________________________________________________________________________\n",
            "lstm (LSTM)                     (None, 300, 16)      4288        embedding_2[0][0]                \n",
            "__________________________________________________________________________________________________\n",
            "flatten (Flatten)               (None, 5)            0           embedding[0][0]                  \n",
            "__________________________________________________________________________________________________\n",
            "flatten_1 (Flatten)             (None, 5)            0           embedding_1[0][0]                \n",
            "__________________________________________________________________________________________________\n",
            "dense (Dense)                   (None, 32)           160         op[0][0]                         \n",
            "__________________________________________________________________________________________________\n",
            "global_max_pooling1d (GlobalMax (None, 16)           0           lstm[0][0]                       \n",
            "__________________________________________________________________________________________________\n",
            "concatenate (Concatenate)       (None, 10)           0           flatten[0][0]                    \n",
            "                                                                 flatten_1[0][0]                  \n",
            "__________________________________________________________________________________________________\n",
            "leaky_re_lu (LeakyReLU)         (None, 32)           0           dense[0][0]                      \n",
            "__________________________________________________________________________________________________\n",
            "dense_1 (Dense)                 (None, 32)           544         global_max_pooling1d[0][0]       \n",
            "__________________________________________________________________________________________________\n",
            "concatenate_1 (Concatenate)     (None, 42)           0           concatenate[0][0]                \n",
            "                                                                 leaky_re_lu[0][0]                \n",
            "__________________________________________________________________________________________________\n",
            "leaky_re_lu_1 (LeakyReLU)       (None, 32)           0           dense_1[0][0]                    \n",
            "__________________________________________________________________________________________________\n",
            "concatenate_2 (Concatenate)     (None, 74)           0           concatenate_1[0][0]              \n",
            "                                                                 leaky_re_lu_1[0][0]              \n",
            "__________________________________________________________________________________________________\n",
            "dropout_1 (Dropout)             (None, 74)           0           concatenate_2[0][0]              \n",
            "__________________________________________________________________________________________________\n",
            "dense_2 (Dense)                 (None, 8)            600         dropout_1[0][0]                  \n",
            "__________________________________________________________________________________________________\n",
            "leaky_re_lu_2 (LeakyReLU)       (None, 8)            0           dense_2[0][0]                    \n",
            "__________________________________________________________________________________________________\n",
            "dense_3 (Dense)                 (None, 1)            9           leaky_re_lu_2[0][0]              \n",
            "==================================================================================================\n",
            "Total params: 6,155,646\n",
            "Trainable params: 6,155,646\n",
            "Non-trainable params: 0\n",
            "__________________________________________________________________________________________________\n"
          ]
        }
      ]
    },
    {
      "cell_type": "code",
      "metadata": {
        "colab": {
          "base_uri": "https://localhost:8080/"
        },
        "id": "Oq9wBOrtxydj",
        "outputId": "5e643158-bd7e-44e9-d63e-cb8a9d99519e"
      },
      "source": [
        "m=model1.fit([train_data.Book_index, train_data.User_index,train_summary,other_train], train_data.rating, epochs=5, batch_size=120,validation_split=0.1,verbose=1)"
      ],
      "execution_count": null,
      "outputs": [
        {
          "output_type": "stream",
          "name": "stdout",
          "text": [
            "Epoch 1/5\n",
            "2304/2304 [==============================] - 139s 59ms/step - loss: 5.3844 - val_loss: 2.9641\n",
            "Epoch 2/5\n",
            "2304/2304 [==============================] - 124s 54ms/step - loss: 2.9585 - val_loss: 2.7679\n",
            "Epoch 3/5\n",
            "2304/2304 [==============================] - 125s 54ms/step - loss: 2.7115 - val_loss: 2.7028\n",
            "Epoch 4/5\n",
            "2304/2304 [==============================] - 127s 55ms/step - loss: 2.5549 - val_loss: 2.6709\n",
            "Epoch 5/5\n",
            "2304/2304 [==============================] - 124s 54ms/step - loss: 2.4401 - val_loss: 2.6817\n"
          ]
        }
      ]
    },
    {
      "cell_type": "code",
      "metadata": {
        "id": "S_Mp513xxygp"
      },
      "source": [
        "other_test=test_data.drop(['User_index','Book_index','rating'],axis=1)\n",
        "other_test[['age','Yearofpublication_index','Category_index','Language_index']]=scaler.fit_transform(other_test[['age','Yearofpublication_index','Category_index','Language_index']])\n",
        "other_test=other_test.values\n",
        "model_predictions = model1.predict([test_data.Book_index,test_data.User_index,test_summary,other_test])"
      ],
      "execution_count": null,
      "outputs": []
    },
    {
      "cell_type": "code",
      "metadata": {
        "id": "WlFdhD1Gzylr",
        "colab": {
          "base_uri": "https://localhost:8080/"
        },
        "outputId": "cda3afd2-b584-480b-d28c-ebfd90257838"
      },
      "source": [
        "for i in range(0,50):\n",
        "  print(\"Model_rating:\",model_predictions[i],\" Original Rating:\",test_data.rating.iloc[i])"
      ],
      "execution_count": null,
      "outputs": [
        {
          "output_type": "stream",
          "name": "stdout",
          "text": [
            "Model_rating: [7.939085]  Original Rating: 7\n",
            "Model_rating: [7.276123]  Original Rating: 4\n",
            "Model_rating: [7.0649133]  Original Rating: 6\n",
            "Model_rating: [8.626167]  Original Rating: 10\n",
            "Model_rating: [7.377743]  Original Rating: 10\n",
            "Model_rating: [7.541521]  Original Rating: 8\n",
            "Model_rating: [7.4792795]  Original Rating: 7\n",
            "Model_rating: [8.002579]  Original Rating: 9\n",
            "Model_rating: [7.15345]  Original Rating: 6\n",
            "Model_rating: [9.478658]  Original Rating: 10\n",
            "Model_rating: [7.4199634]  Original Rating: 4\n",
            "Model_rating: [8.729465]  Original Rating: 10\n",
            "Model_rating: [7.9504046]  Original Rating: 7\n",
            "Model_rating: [6.722909]  Original Rating: 8\n",
            "Model_rating: [7.417386]  Original Rating: 8\n",
            "Model_rating: [7.4233]  Original Rating: 9\n",
            "Model_rating: [6.6304493]  Original Rating: 7\n",
            "Model_rating: [7.3374496]  Original Rating: 7\n",
            "Model_rating: [7.9675922]  Original Rating: 9\n",
            "Model_rating: [5.916942]  Original Rating: 8\n",
            "Model_rating: [7.956137]  Original Rating: 5\n",
            "Model_rating: [7.5813103]  Original Rating: 8\n",
            "Model_rating: [7.9547343]  Original Rating: 6\n",
            "Model_rating: [7.5443134]  Original Rating: 6\n",
            "Model_rating: [8.346107]  Original Rating: 9\n",
            "Model_rating: [8.10723]  Original Rating: 9\n",
            "Model_rating: [8.219895]  Original Rating: 7\n",
            "Model_rating: [8.142896]  Original Rating: 9\n",
            "Model_rating: [8.28446]  Original Rating: 10\n",
            "Model_rating: [7.5996804]  Original Rating: 8\n",
            "Model_rating: [8.047535]  Original Rating: 8\n",
            "Model_rating: [7.9125676]  Original Rating: 8\n",
            "Model_rating: [7.5293403]  Original Rating: 8\n",
            "Model_rating: [9.475897]  Original Rating: 9\n",
            "Model_rating: [7.583688]  Original Rating: 7\n",
            "Model_rating: [6.2349234]  Original Rating: 7\n",
            "Model_rating: [6.3515787]  Original Rating: 7\n",
            "Model_rating: [7.193663]  Original Rating: 5\n",
            "Model_rating: [6.9412794]  Original Rating: 4\n",
            "Model_rating: [7.273525]  Original Rating: 7\n",
            "Model_rating: [7.2569027]  Original Rating: 7\n",
            "Model_rating: [6.05511]  Original Rating: 8\n",
            "Model_rating: [9.697167]  Original Rating: 10\n",
            "Model_rating: [8.636783]  Original Rating: 10\n",
            "Model_rating: [7.451137]  Original Rating: 5\n",
            "Model_rating: [7.8101883]  Original Rating: 7\n",
            "Model_rating: [8.506831]  Original Rating: 7\n",
            "Model_rating: [8.308622]  Original Rating: 7\n",
            "Model_rating: [8.310072]  Original Rating: 10\n",
            "Model_rating: [5.748641]  Original Rating: 5\n"
          ]
        }
      ]
    },
    {
      "cell_type": "code",
      "metadata": {
        "id": "Mo77N6EBzyoj",
        "colab": {
          "base_uri": "https://localhost:8080/"
        },
        "outputId": "7c69ee59-98d6-4264-de5e-f3a231de4287"
      },
      "source": [
        "model1.evaluate([test_data.Book_index,test_data.User_index,test_summary,other_test], test_data.rating)"
      ],
      "execution_count": null,
      "outputs": [
        {
          "output_type": "stream",
          "name": "stdout",
          "text": [
            "2400/2400 [==============================] - 46s 19ms/step - loss: 2.6959\n"
          ]
        },
        {
          "output_type": "execute_result",
          "data": {
            "text/plain": [
              "2.6959023475646973"
            ]
          },
          "metadata": {},
          "execution_count": 38
        }
      ]
    },
    {
      "cell_type": "code",
      "metadata": {
        "id": "Qv9SeoTjzy3_",
        "colab": {
          "base_uri": "https://localhost:8080/"
        },
        "outputId": "1fb156d4-2f00-4916-facd-fb8d83073076"
      },
      "source": [
        "import sklearn.metrics as metrics\n",
        "mae = metrics.mean_absolute_error(test_data.rating, model_predictions)\n",
        "mse = metrics.mean_squared_error(test_data.rating, model_predictions)\n",
        "rmse = np.sqrt(mse)  \n",
        "r2 = metrics.r2_score(test_data.rating,model_predictions)\n",
        "\n",
        "print(\"MAE:\",mae)\n",
        "print(\"MSE:\", mse)\n",
        "print(\"RMSE:\", rmse)\n",
        "print(\"R-Squared:\", r2)"
      ],
      "execution_count": null,
      "outputs": [
        {
          "output_type": "stream",
          "name": "stdout",
          "text": [
            "MAE: 1.292996139816801\n",
            "MSE: 2.6931800287224856\n",
            "RMSE: 1.641091109208287\n",
            "R-Squared: 0.19779854659579865\n"
          ]
        }
      ]
    },
    {
      "cell_type": "code",
      "metadata": {
        "id": "U32EBylOzy7S"
      },
      "source": [
        "#MAE- -0.93%\n",
        "#MSE- 2.39%\n",
        "#RMSE- 1.2%\n",
        "#R-Squared- 16.56%"
      ],
      "execution_count": null,
      "outputs": []
    },
    {
      "cell_type": "code",
      "metadata": {
        "id": "QG4qegc-zy-Y"
      },
      "source": [
        ""
      ],
      "execution_count": null,
      "outputs": []
    },
    {
      "cell_type": "code",
      "metadata": {
        "id": "fcq-GHWzzzBj"
      },
      "source": [
        ""
      ],
      "execution_count": null,
      "outputs": []
    },
    {
      "cell_type": "code",
      "metadata": {
        "id": "VhyOx6N6zzEg"
      },
      "source": [
        ""
      ],
      "execution_count": null,
      "outputs": []
    }
  ]
}